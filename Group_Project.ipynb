{
  "nbformat": 4,
  "nbformat_minor": 0,
  "metadata": {
    "colab": {
      "name": "Group Project.ipynb",
      "provenance": [],
      "collapsed_sections": []
    },
    "kernelspec": {
      "name": "python3",
      "display_name": "Python 3"
    }
  },
  "cells": [
    {
      "cell_type": "markdown",
      "metadata": {
        "id": "gx3jY3poBuM7",
        "colab_type": "text"
      },
      "source": [
        "#Header"
      ]
    },
    {
      "cell_type": "markdown",
      "metadata": {
        "id": "dpRvAsCH2_3D",
        "colab_type": "text"
      },
      "source": [
        "\n",
        "\n",
        "```\n",
        "# Group Assignment # 4 - Michael Fagan.\n",
        "\n",
        "# This project is not fully completed, I probably should have started earlier but I expected my group to contribute something to this assignment. \n",
        "# There were somethings that I had trouble with that I was not able to get to work but I think most of the issues have been fixed except foreign keys\n",
        "#I was not able to understand how to get the foreign keys to work which caused problems with creating the tables.\n",
        "# I apologize for not being able to get this to be finished, I was hoping that when I woke up this morning at least one one of my group members would fix what I had trouble fixing and we can submit it late but completed, however, it looks like that will not be happening. \n",
        "```\n",
        "\n"
      ]
    },
    {
      "cell_type": "markdown",
      "metadata": {
        "id": "Cp4UPpXJ26Qc",
        "colab_type": "text"
      },
      "source": [
        "#Imports + Connections"
      ]
    },
    {
      "cell_type": "code",
      "metadata": {
        "id": "NlfrIt8-Gmem",
        "colab_type": "code",
        "colab": {}
      },
      "source": [
        "import urllib\n",
        "\n",
        "f = urllib.request.urlopen(\"https://raw.githubusercontent.com/MichaelFagan1/group-assignment/master/Untitled%20spreadsheet%20-%20Sheet1%20(1).csv\")\n",
        "WorkerData = str(f.read().decode('utf-8'))\n",
        "g = urllib.request.urlopen(\"https://raw.githubusercontent.com/MichaelFagan1/group-assignment/master/Untitled%20spreadsheet%20-%20Sheet1%20(3).csv\")\n",
        "ChildrenAreaData = str(g.read().decode('utf-8'))\n",
        "h = urllib.request.urlopen(\"https://raw.githubusercontent.com/MichaelFagan1/group-assignment/master/Untitled%20spreadsheet%20-%20Sheet1%20(4).csv\")\n",
        "WaterParkData = str(h.read().decode('utf-8'))\n",
        "i = urllib.request.urlopen(\"https://raw.githubusercontent.com/MichaelFagan1/group-assignment/master/Untitled%20spreadsheet%20-%20Sheet1%20(5).csv\")\n",
        "TicketSalesData = str(i.read().decode('utf-8'))\n",
        "j = urllib.request.urlopen(\"https://raw.githubusercontent.com/MichaelFagan1/group-assignment/master/Untitled%20spreadsheet%20-%20Sheet1%20(6).csv\")\n",
        "ConcessionsData = str(j.read().decode('utf-8'))\n",
        "k = urllib.request.urlopen(\"https://raw.githubusercontent.com/MichaelFagan1/group-assignment/master/Untitled%20spreadsheet%20-%20Sheet1%20(7).csv\")\n",
        "RollercoasterData = str(k.read().decode('utf-8'))\n"
      ],
      "execution_count": 0,
      "outputs": []
    },
    {
      "cell_type": "code",
      "metadata": {
        "id": "KqJJ85syefLc",
        "colab_type": "code",
        "colab": {}
      },
      "source": [
        "import sqlite3 "
      ],
      "execution_count": 0,
      "outputs": []
    },
    {
      "cell_type": "code",
      "metadata": {
        "id": "Fm1P84lwd_7V",
        "colab_type": "code",
        "colab": {}
      },
      "source": [
        "connectionToDatabase = sqlite3.connect('WorkerData') \n"
      ],
      "execution_count": 0,
      "outputs": []
    },
    {
      "cell_type": "code",
      "metadata": {
        "colab_type": "code",
        "id": "ogvqYHz6hpPD",
        "colab": {}
      },
      "source": [
        " cursor = connectionToDatabase.cursor()\n"
      ],
      "execution_count": 0,
      "outputs": []
    },
    {
      "cell_type": "markdown",
      "metadata": {
        "id": "f3hUdoSR2p1w",
        "colab_type": "text"
      },
      "source": [
        "#Worker Table Creation\n"
      ]
    },
    {
      "cell_type": "code",
      "metadata": {
        "colab_type": "code",
        "id": "ELV7ibzdhokv",
        "colab": {}
      },
      "source": [
        "cursor.execute('''create table IF NOT EXISTS Workers (WorkerID INTEGER PRIMARY KEY, first_name TEXT, last_name TEXT, email TEXT, hours INTEGER)''')\n",
        "connectionToDatabase.commit()"
      ],
      "execution_count": 0,
      "outputs": []
    },
    {
      "cell_type": "code",
      "metadata": {
        "id": "ek1hdvNHmnEB",
        "colab_type": "code",
        "colab": {}
      },
      "source": [
        "for line in WorkerData.split(\"\\n\")[1:6]:\n",
        "  data = line.split(\",\")\n",
        "  print (data[0],data[1],data[2],data[3],)"
      ],
      "execution_count": 0,
      "outputs": []
    },
    {
      "cell_type": "code",
      "metadata": {
        "id": "Cf7DPxyQmsvR",
        "colab_type": "code",
        "colab": {}
      },
      "source": [
        "for line in WorkerData.split(\"\\n\")[1:-1]:\n",
        "  data = line.split(\",\")\n",
        "  try:\n",
        "    insertStatement =  \"\"\"insert into worker values (\"%s\",%s,%s,%s,%s)\"\"\" % (data[0],data[1],data[2],data[3],)\n",
        "    cursor.execute(insertStatement)\n",
        "    connectionToDatabase.commit() \n",
        "  except:\n",
        "    continue #Worker data will not seem to go into the Workers table, not sure why "
      ],
      "execution_count": 0,
      "outputs": []
    },
    {
      "cell_type": "markdown",
      "metadata": {
        "id": "kS0LrNgau2cz",
        "colab_type": "text"
      },
      "source": [
        "#Children Area Table Creation"
      ]
    },
    {
      "cell_type": "code",
      "metadata": {
        "id": "kAfEaHvarPEf",
        "colab_type": "code",
        "colab": {}
      },
      "source": [
        "cursor.execute('''create table IF NOT EXISTS ChildrenArea (AreaID INTEGER PRIMARY KEY, numPeople INTEGER, santiation_date TEXT, FOREIGN KEY(WorkerID) REFERENCES Workers(WorkerID))''') #Foreign key will not work not sure why\n",
        "connectionToDatabase.commit()"
      ],
      "execution_count": 0,
      "outputs": []
    },
    {
      "cell_type": "code",
      "metadata": {
        "id": "XAKVGUcfrPOI",
        "colab_type": "code",
        "colab": {}
      },
      "source": [
        "for line in ChildrenAreaData.split(\"\\n\")[0:6]:\n",
        "  data2 = line.split(\",\")\n",
        "  print (data2[0],data2[1],data2[2],)"
      ],
      "execution_count": 0,
      "outputs": []
    },
    {
      "cell_type": "code",
      "metadata": {
        "id": "2biIqwupvtai",
        "colab_type": "code",
        "colab": {}
      },
      "source": [
        "for line in ChildrenAreaData.split(\"\\n\")[1:-1]:\n",
        "  data2 = line.split(\",\")\n",
        "  try:\n",
        "    insertStatement2 =  \"\"\"insert into Children's Area values (\"%s\",%s,%s,%s,%s)\"\"\" % (data2[0],data2[1],data2[2],)\n",
        "    cursor.execute(insertStatement2)\n",
        "    connectionToDatabase.commit() \n",
        "  except:\n",
        "    continue #ChidlrenAreaData data will not seem to go into the Children's Area table, not sure why "
      ],
      "execution_count": 0,
      "outputs": []
    },
    {
      "cell_type": "markdown",
      "metadata": {
        "id": "D7QZ3pAG2jmD",
        "colab_type": "text"
      },
      "source": [
        "# Water Park Table Creation"
      ]
    },
    {
      "cell_type": "code",
      "metadata": {
        "id": "gzAoZicov4T5",
        "colab_type": "code",
        "colab": {}
      },
      "source": [
        "cursor.execute('''create table IF NOT EXISTS WaterPark (WaterParkID INTEGER PRIMARY KEY, LockersUsed INTEGER, WaterUsedGallons INTEGER, LinelengthMinutes INTEGER,  FOREIGN KEY(WorkerID) REFERENCES Workers(WorkerID),)''') #Foreign key will not work not sure why\n",
        "connectionToDatabase.commit()"
      ],
      "execution_count": 0,
      "outputs": []
    },
    {
      "cell_type": "code",
      "metadata": {
        "id": "DHaGkp-vwNfJ",
        "colab_type": "code",
        "colab": {}
      },
      "source": [
        "for line in WaterParkData.split(\"\\n\")[0:6]:\n",
        "  data3 = line.split(\",\")\n",
        "  print (data3[0],data3[1],data3[2],data3[3],)"
      ],
      "execution_count": 0,
      "outputs": []
    },
    {
      "cell_type": "code",
      "metadata": {
        "id": "boaAYRR5woG-",
        "colab_type": "code",
        "colab": {}
      },
      "source": [
        "for line in WaterParkData.split(\"\\n\")[1:-1]:\n",
        "  data3 = line.split(\",\")\n",
        "  try:\n",
        "    insertStatement3 =  \"\"\"insert into Water Park's values (\"%s\",%s,%s,%s,%s)\"\"\" % (data3[0],data3[1],data3[2],data3[3],)\n",
        "    cursor.execute(insertStatement3)\n",
        "    connectionToDatabase.commit() \n",
        "  except:\n",
        "    continue #WaterPark data will not seem to go into the   table, not sure why "
      ],
      "execution_count": 0,
      "outputs": []
    },
    {
      "cell_type": "markdown",
      "metadata": {
        "id": "3v0cG45E2ZIw",
        "colab_type": "text"
      },
      "source": [
        "# Ticket Sales Table Creation"
      ]
    },
    {
      "cell_type": "code",
      "metadata": {
        "id": "OwXmIcK-wwP-",
        "colab_type": "code",
        "colab": {}
      },
      "source": [
        "cursor.execute('''create table IF NOT EXISTS TicketSales (DateID INTEGER PRIMARY KEY, TicketsSold INTEGER, FOREIGN KEY(WorkerID) REFERENCES Workers(WorkerID), )''') #Foreign key will not work not sure why\n",
        "connectionToDatabase.commit()"
      ],
      "execution_count": 0,
      "outputs": []
    },
    {
      "cell_type": "code",
      "metadata": {
        "id": "BL6WmpM4xVnn",
        "colab_type": "code",
        "colab": {
          "base_uri": "https://localhost:8080/",
          "height": 105
        },
        "outputId": "d5626b7d-099b-4a67-8b51-179d0980d2d3"
      },
      "source": [
        "for line in TicketSalesData.split(\"\\n\")[0:6]:\n",
        "  data4 = line.split(\",\")\n",
        "  print (data4[0],data4[1])"
      ],
      "execution_count": 39,
      "outputs": [
        {
          "output_type": "stream",
          "text": [
            "11/15 2333\r\n",
            "11/16 2345\r\n",
            "11/17 2341\r\n",
            "11/18 2311\r\n",
            "11/19 2222\n"
          ],
          "name": "stdout"
        }
      ]
    },
    {
      "cell_type": "code",
      "metadata": {
        "id": "MmVfJDB4xfH2",
        "colab_type": "code",
        "colab": {}
      },
      "source": [
        "for line in TicketSalesData.split(\"\\n\")[1:-1]:\n",
        "  data4 = line.split(\",\")\n",
        "  try:\n",
        "    insertStatement4 =  \"\"\"insert into Ticket Sale's  values (\"%s\",%s,%s,%s,%s)\"\"\" % (data4[0],data4[1])\n",
        "    cursor.execute(insertStatement4)\n",
        "    connectionToDatabase.commit() \n",
        "  except:\n",
        "    continue #TicketSaleData data will not seem to go into the table, not sure why "
      ],
      "execution_count": 0,
      "outputs": []
    },
    {
      "cell_type": "markdown",
      "metadata": {
        "id": "7mCFKPol2Cqb",
        "colab_type": "text"
      },
      "source": [
        "# Food Concession Table creation\n"
      ]
    },
    {
      "cell_type": "code",
      "metadata": {
        "id": "sScuLMwbx7az",
        "colab_type": "code",
        "colab": {}
      },
      "source": [
        "cursor.execute('''create table IF NOT EXISTS FoodConcessions (TableNumber INTEGER PRIMARY KEY, Profit real, InventoryInUnits INTEGER, QuantitySold INTEGER, FOREIGN KEY(WorkerID) REFERENCES Workers(WorkerID), )''') #Foreign key will not work not sure why\n",
        "connectionToDatabase.commit()"
      ],
      "execution_count": 0,
      "outputs": []
    },
    {
      "cell_type": "code",
      "metadata": {
        "id": "NlAmVQx3yTIR",
        "colab_type": "code",
        "colab": {
          "base_uri": "https://localhost:8080/",
          "height": 105
        },
        "outputId": "22361ff6-a419-4911-dcc4-8a8866b4c3b4"
      },
      "source": [
        "for line in ConcessionsData.split(\"\\n\")[0:6]:\n",
        "  data5 = line.split(\",\")\n",
        "  print (data5[0],data5[1],data5[2],data5[3])"
      ],
      "execution_count": 47,
      "outputs": [
        {
          "output_type": "stream",
          "text": [
            "1 3213.32 55 55\r\n",
            "2 3200.31 77 77\r\n",
            "3 3173.31 211 89\r\n",
            "4 3123.35 183 74\r\n",
            "5 3109.94 88 54\n"
          ],
          "name": "stdout"
        }
      ]
    },
    {
      "cell_type": "code",
      "metadata": {
        "id": "QLh-viBKyYD3",
        "colab_type": "code",
        "colab": {}
      },
      "source": [
        "for line in ConcessionsData.split(\"\\n\")[1:-1]:\n",
        "  data5 = line.split(\",\")\n",
        "  try:\n",
        "    insertStatement5 =  \"\"\"insert into Ticket Sale's  values (\"%s\",%s,%s,%s,%s)\"\"\" % (data5[0],data5[1],data5[2],data5[3])\n",
        "    cursor.execute(insertStatement5)\n",
        "    connectionToDatabase.commit() \n",
        "  except:\n",
        "    continue #Concession data will not seem to go into the table, not sure why "
      ],
      "execution_count": 0,
      "outputs": []
    },
    {
      "cell_type": "markdown",
      "metadata": {
        "id": "LpQZXfB52K_8",
        "colab_type": "text"
      },
      "source": [
        "# Rollercoaster Table Creation"
      ]
    },
    {
      "cell_type": "code",
      "metadata": {
        "id": "g4CsHZXPyhVW",
        "colab_type": "code",
        "colab": {}
      },
      "source": [
        "cursor.execute('''create table IF NOT EXISTS Rollercoaster (RollerCoasterName TEXT PRIMARY KEY, LineLengthMinutes INTEGER, InspectionDate TEXT, FOREIGN KEY(WorkerID) REFERENCES Workers(WorkerID))''') #Foreign key will not work not sure why\n",
        "connectionToDatabase.commit()"
      ],
      "execution_count": 0,
      "outputs": []
    },
    {
      "cell_type": "code",
      "metadata": {
        "id": "45MsMyUTzRF7",
        "colab_type": "code",
        "colab": {}
      },
      "source": [
        "for line in RollercoasterData.split(\"\\n\")[0:6]:\n",
        "  data6 = line.split(\",\")\n",
        "  print (data6[0],data6[1],data6[2],)"
      ],
      "execution_count": 0,
      "outputs": []
    },
    {
      "cell_type": "code",
      "metadata": {
        "id": "Zf1ko1ESzXhD",
        "colab_type": "code",
        "colab": {}
      },
      "source": [
        "for line in RollercoasterData.split(\"\\n\")[1:-1]:\n",
        "  data6 = line.split(\",\")\n",
        "  try:\n",
        "    insertStatement6 =  \"\"\"insert into Rollercoaster's  values (\"%s\",%s,%s,%s,%s)\"\"\" % (data6[0],data6[1],data6[2],data6[3],)\n",
        "    cursor.execute(insertStatement6)\n",
        "    connectionToDatabase.commit() \n",
        "  except:\n",
        "    continue #Rollercoaster data will not seem to go into the table, not sure why "
      ],
      "execution_count": 0,
      "outputs": []
    },
    {
      "cell_type": "markdown",
      "metadata": {
        "id": "gzWdxtzaAV0O",
        "colab_type": "text"
      },
      "source": [
        "# Questions"
      ]
    },
    {
      "cell_type": "markdown",
      "metadata": {
        "id": "PgsDFKWnA2F1",
        "colab_type": "text"
      },
      "source": [
        "What is the average wait time for the water park"
      ]
    },
    {
      "cell_type": "code",
      "metadata": {
        "id": "IzrELIIwcG4v",
        "colab_type": "code",
        "colab": {}
      },
      "source": [
        "cursor.execute('''SELECT AVG(LinelengthMinutes) FROM WaterPark''')\n",
        "for row in cursor.fetchall():\n",
        "  print (row)"
      ],
      "execution_count": 0,
      "outputs": []
    },
    {
      "cell_type": "markdown",
      "metadata": {
        "id": "brtwgYmzegmu",
        "colab_type": "text"
      },
      "source": [
        "\n",
        "\n",
        "```\n",
        "# When running a waterpark it is important to understand your average line length for all your rides because if the ride length is too long, that can detract future customers who may want to go to your water park but will not because of the wait. Finding that this is a problem to possibly find ways to address it is essential if you want to have a successful water park. Disney for example, offers fast passes as well as check-ins on their app so you do not have to wait in long lines. \n",
        "```\n",
        "\n"
      ]
    },
    {
      "cell_type": "markdown",
      "metadata": {
        "id": "X3rsi8raAc16",
        "colab_type": "text"
      },
      "source": [
        "Who worked the most hours (limit to 3)?"
      ]
    },
    {
      "cell_type": "code",
      "metadata": {
        "id": "vEU0CnZbdnEa",
        "colab_type": "code",
        "colab": {}
      },
      "source": [
        "cursor.execute('''SELECT * FROM Workers ORDER BY hours DESC limit 3''')\n",
        "for row in cursor.fetchall():\n",
        "  print (row)"
      ],
      "execution_count": 0,
      "outputs": []
    },
    {
      "cell_type": "markdown",
      "metadata": {
        "id": "wPBvV0eofe_z",
        "colab_type": "text"
      },
      "source": [
        "\n",
        "\n",
        "```\n",
        "# Finding out who works the most hours in your water park is important because that shows the water park who their hardest workers are and who can be in line for future promotions or raises. Giving a top 3 from your list of workers give the company their 3 top people that they can choose from as they wish. \n",
        "```\n",
        "\n"
      ]
    },
    {
      "cell_type": "markdown",
      "metadata": {
        "id": "3PyM0cSMAgfS",
        "colab_type": "text"
      },
      "source": [
        "How much profit was made in concessions in total?\n"
      ]
    },
    {
      "cell_type": "code",
      "metadata": {
        "id": "efkTqPlHeIHA",
        "colab_type": "code",
        "colab": {}
      },
      "source": [
        "cursor.execute('''SELECT sum(profit) from FoodConcessions''')\n",
        "for row in cursor.fetchall():\n",
        "  print (row)"
      ],
      "execution_count": 0,
      "outputs": []
    },
    {
      "cell_type": "markdown",
      "metadata": {
        "id": "FhJC3fPbf5HR",
        "colab_type": "text"
      },
      "source": [
        "\n",
        "\n",
        "```\n",
        "# Cacluating profit from your concession stands helps to show if your customers feel that your food is either good or well priced. If profits were way too low, then they would have to conduct a survey or find more data on whether it was because of their prices or food quality.\n",
        "```\n",
        "\n"
      ]
    }
  ]
}